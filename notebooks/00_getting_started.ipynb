{
 "cells": [
  {
   "cell_type": "code",
   "execution_count": 1,
   "id": "1a368801-6958-4998-86ea-4458adfaef5d",
   "metadata": {},
   "outputs": [
    {
     "name": "stdout",
     "output_type": "stream",
     "text": [
      "Hello!! Running from my GenAI SandBox\n"
     ]
    }
   ],
   "source": [
    "print(\"Hello!! Running from my GenAI SandBox\")"
   ]
  },
  {
   "cell_type": "code",
   "execution_count": 1,
   "id": "44452908-3f31-4f6f-95e1-b7cd6633dfb3",
   "metadata": {},
   "outputs": [
    {
     "data": {
      "text/plain": [
       "['venv',\n",
       " '.local',\n",
       " 'config',\n",
       " '.jupyter',\n",
       " 'cleanup.sh',\n",
       " 'dev-cti-env',\n",
       " 'linux-learning',\n",
       " '.streamlit',\n",
       " '.sudo_as_admin_successful',\n",
       " '.twilio-cli',\n",
       " '.docker',\n",
       " '.python_history',\n",
       " '.vscode-server',\n",
       " '.lesshst',\n",
       " 'cti-asterisk',\n",
       " 'aws-cert-agent',\n",
       " 'prompt-enhancer',\n",
       " '.bash_history',\n",
       " '.landscape',\n",
       " 'genai-lvs-academy',\n",
       " 'asterisk-docker-setup.sh',\n",
       " '.ollama',\n",
       " '.bashrc',\n",
       " '.motd_shown',\n",
       " '.gitconfig',\n",
       " 'llm-cti-playground',\n",
       " '.bash_logout',\n",
       " '.viminfo',\n",
       " '.dotnet',\n",
       " 'lvs-litemind',\n",
       " '.config',\n",
       " 'snap',\n",
       " 'genai-lab-sandbox',\n",
       " '.profile',\n",
       " '.cache',\n",
       " '.ipython',\n",
       " 'aws-cert-agent-docker-test']"
      ]
     },
     "execution_count": 1,
     "metadata": {},
     "output_type": "execute_result"
    }
   ],
   "source": [
    "import os\n",
    "os.listdir(\"..\")  # Lists your project folders\n"
   ]
  },
  {
   "cell_type": "markdown",
   "id": "92e6da6b-7cdd-4755-9445-3d48aa84691e",
   "metadata": {},
   "source": [
    "## 📘 My First GenAI Lab Notebook\n",
    "\n",
    "This notebook helps me test GenAI components step by step.\n"
   ]
  },
  {
   "cell_type": "markdown",
   "id": "d96424ca-d0d8-4958-a1e1-da86e37ad853",
   "metadata": {},
   "source": [
    "# 🔍 Section 1: My First Section\n",
    "This section will demonstrate how to run loops and visualize data.\n"
   ]
  },
  {
   "cell_type": "code",
   "execution_count": 2,
   "id": "5d361fba-9fab-4f09-8374-106d8d5a35a7",
   "metadata": {},
   "outputs": [
    {
     "name": "stdout",
     "output_type": "stream",
     "text": [
      "🔁 Loop iteration: 1\n",
      "🔁 Loop iteration: 2\n",
      "🔁 Loop iteration: 3\n",
      "🔁 Loop iteration: 4\n",
      "🔁 Loop iteration: 5\n"
     ]
    }
   ],
   "source": [
    "for i in range(1, 6):\n",
    "    print(f\"🔁 Loop iteration: {i}\")\n"
   ]
  },
  {
   "cell_type": "code",
   "execution_count": 1,
   "id": "444a416f-851c-4806-a523-b9483de95e53",
   "metadata": {},
   "outputs": [
    {
     "name": "stderr",
     "output_type": "stream",
     "text": [
      "/home/koyas/genai-lab-sandbox/venv/lib/python3.12/site-packages/IPython/core/pylabtools.py:170: UserWarning: Glyph 128202 (\\N{BAR CHART}) missing from font(s) DejaVu Sans.\n",
      "  fig.canvas.print_figure(bytes_io, **kw)\n"
     ]
    },
    {
     "data": {
      "image/png": "[encoded data removed]",
      "text/plain": [
       "<Figure size 640x480 with 1 Axes>"
      ]
     },
     "metadata": {},
     "output_type": "display_data"
    }
   ],
   "source": [
    "import matplotlib.pyplot as plt\n",
    "\n",
    "# Sample data\n",
    "x = [1, 2, 3, 4, 5]\n",
    "y = [i**2 for i in x]\n",
    "\n",
    "# Plotting\n",
    "plt.plot(x, y, marker='o')\n",
    "plt.title(\"📊 X vs X²\")\n",
    "plt.xlabel(\"X\")\n",
    "plt.ylabel(\"X squared\")\n",
    "plt.grid(True)\n",
    "plt.show()\n"
   ]
  },
  {
   "cell_type": "code",
   "execution_count": 3,
   "id": "62c2bb27-91e8-4589-815e-a0b22f0ba953",
   "metadata": {},
   "outputs": [
    {
     "name": "stdout",
     "output_type": "stream",
     "text": [
      "Collecting matplotlib\n",
      "  Downloading matplotlib-3.10.3-cp312-cp312-manylinux_2_17_x86_64.manylinux2014_x86_64.whl.metadata (11 kB)\n",
      "Collecting contourpy>=1.0.1 (from matplotlib)\n",
      "  Downloading contourpy-1.3.2-cp312-cp312-manylinux_2_17_x86_64.manylinux2014_x86_64.whl.metadata (5.5 kB)\n",
      "Collecting cycler>=0.10 (from matplotlib)\n",
      "  Downloading cycler-0.12.1-py3-none-any.whl.metadata (3.8 kB)\n",
      "Collecting fonttools>=4.22.0 (from matplotlib)\n",
      "  Downloading fonttools-4.59.0-cp312-cp312-manylinux1_x86_64.manylinux2014_x86_64.manylinux_2_17_x86_64.manylinux_2_5_x86_64.whl.metadata (107 kB)\n",
      "\u001b[2K     \u001b[38;2;114;156;31m━━━━━━━━━━━━━━━━━━━━━━━━━━━━━━━━━━━━━\u001b[0m \u001b[32m107.9/107.9 kB\u001b[0m \u001b[31m740.7 kB/s\u001b[0m eta \u001b[36m0:00:00\u001b[0m kB/s\u001b[0m eta \u001b[36m0:00:01\u001b[0m:01\u001b[0m\n",
      "\u001b[?25hCollecting kiwisolver>=1.3.1 (from matplotlib)\n",
      "  Downloading kiwisolver-1.4.8-cp312-cp312-manylinux_2_17_x86_64.manylinux2014_x86_64.whl.metadata (6.2 kB)\n",
      "Collecting numpy>=1.23 (from matplotlib)\n",
      "  Using cached numpy-2.3.1-cp312-cp312-manylinux_2_28_x86_64.whl.metadata (62 kB)\n",
      "Requirement already satisfied: packaging>=20.0 in ./venv/lib/python3.12/site-packages (from matplotlib) (25.0)\n",
      "Collecting pillow>=8 (from matplotlib)\n",
      "  Using cached pillow-11.3.0-cp312-cp312-manylinux_2_27_x86_64.manylinux_2_28_x86_64.whl.metadata (9.0 kB)\n",
      "Collecting pyparsing>=2.3.1 (from matplotlib)\n",
      "  Downloading pyparsing-3.2.3-py3-none-any.whl.metadata (5.0 kB)\n",
      "Requirement already satisfied: python-dateutil>=2.7 in ./venv/lib/python3.12/site-packages (from matplotlib) (2.9.0.post0)\n",
      "Requirement already satisfied: six>=1.5 in ./venv/lib/python3.12/site-packages (from python-dateutil>=2.7->matplotlib) (1.17.0)\n",
      "Downloading matplotlib-3.10.3-cp312-cp312-manylinux_2_17_x86_64.manylinux2014_x86_64.whl (8.6 MB)\n",
      "\u001b[2K   \u001b[38;2;114;156;31m━━━━━━━━━━━━━━━━━━━━━━━━━━━━━━━━━━━━━━━━\u001b[0m \u001b[32m8.6/8.6 MB\u001b[0m \u001b[31m14.1 MB/s\u001b[0m eta \u001b[36m0:00:00\u001b[0mm eta \u001b[36m0:00:01\u001b[0m0:01\u001b[0m:01\u001b[0m\n",
      "\u001b[?25hDownloading contourpy-1.3.2-cp312-cp312-manylinux_2_17_x86_64.manylinux2014_x86_64.whl (323 kB)\n",
      "\u001b[2K   \u001b[38;2;114;156;31m━━━━━━━━━━━━━━━━━━━━━━━━━━━━━━━━━━━━━━━━\u001b[0m \u001b[32m323.7/323.7 kB\u001b[0m \u001b[31m10.6 MB/s\u001b[0m eta \u001b[36m0:00:00\u001b[0m\n",
      "\u001b[?25hDownloading cycler-0.12.1-py3-none-any.whl (8.3 kB)\n",
      "Downloading fonttools-4.59.0-cp312-cp312-manylinux1_x86_64.manylinux2014_x86_64.manylinux_2_17_x86_64.manylinux_2_5_x86_64.whl (4.9 MB)\n",
      "\u001b[2K   \u001b[38;2;114;156;31m━━━━━━━━━━━━━━━━━━━━━━━━━━━━━━━━━━━━━━━━\u001b[0m \u001b[32m4.9/4.9 MB\u001b[0m \u001b[31m28.1 MB/s\u001b[0m eta \u001b[36m0:00:00\u001b[0mm eta \u001b[36m0:00:01\u001b[0m0:01\u001b[0m\n",
      "\u001b[?25hDownloading kiwisolver-1.4.8-cp312-cp312-manylinux_2_17_x86_64.manylinux2014_x86_64.whl (1.5 MB)\n",
      "\u001b[2K   \u001b[38;2;114;156;31m━━━━━━━━━━━━━━━━━━━━━━━━━━━━━━━━━━━━━━━━\u001b[0m \u001b[32m1.5/1.5 MB\u001b[0m \u001b[31m32.8 MB/s\u001b[0m eta \u001b[36m0:00:00\u001b[0m0m eta \u001b[36m0:00:01\u001b[0m\n",
      "\u001b[?25hUsing cached numpy-2.3.1-cp312-cp312-manylinux_2_28_x86_64.whl (16.6 MB)\n",
      "Using cached pillow-11.3.0-cp312-cp312-manylinux_2_27_x86_64.manylinux_2_28_x86_64.whl (6.6 MB)\n",
      "Downloading pyparsing-3.2.3-py3-none-any.whl (111 kB)\n",
      "\u001b[2K   \u001b[38;2;114;156;31m━━━━━━━━━━━━━━━━━━━━━━━━━━━━━━━━━━━━━━━━\u001b[0m \u001b[32m111.1/111.1 kB\u001b[0m \u001b[31m2.7 MB/s\u001b[0m eta \u001b[36m0:00:00\u001b[0m31m106.4 MB/s\u001b[0m eta \u001b[36m0:00:01\u001b[0m\n",
      "\u001b[?25hInstalling collected packages: pyparsing, pillow, numpy, kiwisolver, fonttools, cycler, contourpy, matplotlib\n",
      "Successfully installed contourpy-1.3.2 cycler-0.12.1 fonttools-4.59.0 kiwisolver-1.4.8 matplotlib-3.10.3 numpy-2.3.1 pillow-11.3.0 pyparsing-3.2.3\n",
      "Note: you may need to restart the kernel to use updated packages.\n"
     ]
    }
   ],
   "source": [
    "pip install matplotlib"
   ]
  },
  {
   "cell_type": "markdown",
   "id": "3ed17929-9a0f-499c-9946-dc4aa962958e",
   "metadata": {},
   "source": [
    "# Day 1: Python Lists Practice\n"
   ]
  },
  {
   "cell_type": "code",
   "execution_count": 2,
   "id": "5e5fedf7-7ae6-4f2c-91fa-29fdee429ebe",
   "metadata": {},
   "outputs": [
    {
     "name": "stdout",
     "output_type": "stream",
     "text": [
      "Tool #1: pip\n",
      "Tool #2: streamlit\n",
      "Tool #3: chromadb\n"
     ]
    }
   ],
   "source": [
    "tools = [\"pip\", \"streamlit\", \"chromadb\"]\n",
    "\n",
    "for i, tool in enumerate(tools, start=1):\n",
    "    print(f\"Tool #{i}: {tool}\")\n"
   ]
  },
  {
   "cell_type": "code",
   "execution_count": 6,
   "id": "21b42868-751d-43da-ae4c-063b57f95563",
   "metadata": {},
   "outputs": [
    {
     "name": "stdout",
     "output_type": "stream",
     "text": [
      "AWS Service #1: S3\n",
      "AWS Service #2: EC2\n",
      "AWS Service #3: Lambda\n",
      "AWS Service #4: API Gateway\n",
      "AWS Service #5: CloudWatch\n"
     ]
    }
   ],
   "source": [
    "aws_services = [\"S3\", \"EC2\", \"Lambda\", \"API Gateway\", \"CloudWatch\"]\n",
    "\n",
    "# Your code goes here\n",
    "for i, service in enumerate(aws_services,start=1):\n",
    "    print(f\"AWS Service #{i}: {service}\")"
   ]
  },
  {
   "cell_type": "markdown",
   "id": "7cc17c33-5b1c-4126-a882-264575ca1629",
   "metadata": {},
   "source": [
    "# Key Take Aways\n",
    "\n",
    "- Lists use square brackets []\n",
    "- Loop with `for`\n",
    "- Use `enumerate()` to get index\n",
    "- `f\"\"` is used for formatted output\n"
   ]
  },
  {
   "cell_type": "markdown",
   "id": "efabcaa3-0a39-4de8-88ff-3817e36f90a5",
   "metadata": {},
   "source": [
    "# DAY 2: Python Dictionaries\n",
    "✅ What is a Dictionary?\n",
    "A dictionary is like a contact book — it stores data in key-value pairs."
   ]
  },
  {
   "cell_type": "markdown",
   "id": "da6466c4-7b1c-4c5f-9972-998e87b057cf",
   "metadata": {},
   "source": [
    "person = {\n",
    "    \"name\": \"Shanmukh\",\n",
    "    \"role\": \"Developer\",\n",
    "    \"city\": \"Hyderabad\"\n",
    "}\n"
   ]
  },
  {
   "cell_type": "markdown",
   "id": "8cf1e644-8991-442d-85a7-612133cca455",
   "metadata": {},
   "source": [
    "Here:\n",
    "\n",
    "\"name\", \"role\", and \"city\" are keys\n",
    "\n",
    "\"Shanmukh\", \"Developer\", \"Hyderabad\" are values"
   ]
  },
  {
   "cell_type": "code",
   "execution_count": 8,
   "id": "26e52310-77ef-4e71-92cd-8c92ec00186b",
   "metadata": {},
   "outputs": [
    {
     "name": "stdout",
     "output_type": "stream",
     "text": [
      "Shanmukh\n",
      "{'role': 'AI Engineer', 'age': 30}\n"
     ]
    }
   ],
   "source": [
    "person = {\"name\": \"Shanmukh\", \"role\": \"Developer\"}\n",
    "\n",
    "print(person[\"name\"])              # 👉 Access a value\n",
    "person[\"role\"] = \"AI Engineer\"     # 👉 Update a value\n",
    "person[\"age\"] = 30                 # 👉 Add a new key-value pair\n",
    "del person[\"name\"]                 # 👉 Delete a key\n",
    "print(person)                      # 👉 Show final dictionary\n"
   ]
  },
  {
   "cell_type": "markdown",
   "id": "872b247b-0832-43af-b0e7-1839370c4017",
   "metadata": {},
   "source": [
    "# Loop through a Dictionary"
   ]
  },
  {
   "cell_type": "code",
   "execution_count": 9,
   "id": "71ed8b3c-f947-4f54-9383-c21b30ad918b",
   "metadata": {},
   "outputs": [
    {
     "name": "stdout",
     "output_type": "stream",
     "text": [
      "role → AI Engineer\n",
      "age → 30\n"
     ]
    }
   ],
   "source": [
    "for key, value in person.items():\n",
    "    print(f\"{key} → {value}\")\n"
   ]
  },
  {
   "cell_type": "markdown",
   "id": "d84c1e48-f579-47ee-8273-23bf474f04f4",
   "metadata": {},
   "source": [
    "# Real-Life GenAI Style Example"
   ]
  },
  {
   "cell_type": "code",
   "execution_count": 10,
   "id": "f9561496-ae48-4dd3-aca4-57120cd8d363",
   "metadata": {},
   "outputs": [
    {
     "name": "stdout",
     "output_type": "stream",
     "text": [
      "model: gpt-4\n",
      "temperature: 0.7\n",
      "max_tokens: 1000\n"
     ]
    }
   ],
   "source": [
    "llm_config = {\n",
    "    \"model\": \"gpt-4\",\n",
    "    \"temperature\": 0.7,\n",
    "    \"max_tokens\": 1000\n",
    "}\n",
    "\n",
    "for setting, value in llm_config.items():\n",
    "    print(f\"{setting}: {value}\")\n"
   ]
  },
  {
   "cell_type": "markdown",
   "id": "30c2c87f-a061-4b61-b8b0-de2761e81825",
   "metadata": {},
   "source": [
    "# Python Dictionaries Practice\n",
    "\n",
    "Problem Statement:\n",
    "\n",
    "Create a dictionary called aws_service_cost with the following:\n",
    "\n",
    "\"S3\": 0.023\n",
    "\n",
    "\"EC2\": 0.12\n",
    "\n",
    "\"Lambda\": 0.00001667\n",
    "\n",
    "Then:\n",
    "\n",
    "1. Print each service with its cost like:\n",
    "    Ex: Cost of S3 is $0.023 per unit\n",
    "2. Add \"API Gateway\" with cost 0.0035\n",
    "3. Update \"EC2\" cost to 0.11\n",
    "\n"
   ]
  },
  {
   "cell_type": "code",
   "execution_count": 14,
   "id": "f7cd6e4d-60a1-4106-86ef-903449fd8ba8",
   "metadata": {},
   "outputs": [
    {
     "name": "stdout",
     "output_type": "stream",
     "text": [
      "{'S3': 0.023, 'EC2': 0.11, 'Lambda': 1.667e-05, 'API Gateway': 0.0035}\n",
      "Cost of S3 is 0.023000\n",
      "Cost of EC2 is 0.110000\n",
      "Cost of Lambda is 0.000017\n",
      "Cost of API Gateway is 0.003500\n"
     ]
    }
   ],
   "source": [
    "aws_service_cost = {\n",
    "    \"S3\": 0.023,\n",
    "    \"EC2\": 0.12,\n",
    "    \"Lambda\": 0.00001667\n",
    "}\n",
    "\n",
    "aws_service_cost[\"API Gateway\"] = 0.0035\n",
    "aws_service_cost[\"EC2\"] = 0.11\n",
    "print(aws_service_cost)\n",
    "for service,cost in aws_service_cost.items():\n",
    "    print(f\"Cost of {service} is {cost:5f}\")\n",
    "\n",
    "    "
   ]
  },
  {
   "cell_type": "markdown",
   "id": "25958289-4672-40b7-9226-8ea2243f258b",
   "metadata": {},
   "source": [
    "### Day 2 Takeaways: Dictionaries"
   ]
  },
  {
   "cell_type": "markdown",
   "id": "8a3f327d-d38a-4c98-aa01-c23832ee5015",
   "metadata": {},
   "source": [
    "- Dicts store key-value data\n",
    "- Use `dict[key]` to access or modify\n",
    "- Use `.items()` to loop through\n",
    "- `f\"{var:.5f}\"` formats float with 5 decimals"
   ]
  },
  {
   "cell_type": "code",
   "execution_count": null,
   "id": "54c802f9-e381-46de-a11d-b5bbfcd199e0",
   "metadata": {},
   "outputs": [],
   "source": []
  }
 ],
 "metadata": {
  "kernelspec": {
   "display_name": "Python 3 (ipykernel)",
   "language": "python",
   "name": "python3"
  },
  "language_info": {
   "codemirror_mode": {
    "name": "ipython",
    "version": 3
   },
   "file_extension": ".py",
   "mimetype": "text/x-python",
   "name": "python",
   "nbconvert_exporter": "python",
   "pygments_lexer": "ipython3",
   "version": "3.12.3"
  }
 },
 "nbformat": 4,
 "nbformat_minor": 5
}
